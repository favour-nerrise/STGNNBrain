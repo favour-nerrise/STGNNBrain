{
  "nbformat": 4,
  "nbformat_minor": 0,
  "metadata": {
    "colab": {
      "provenance": [],
      "collapsed_sections": [
        "zrg-3QWM3LtY"
      ]
    },
    "kernelspec": {
      "name": "python3",
      "display_name": "Python 3"
    },
    "language_info": {
      "name": "python"
    }
  },
  "cells": [
    {
      "cell_type": "markdown",
      "source": [
        "# Predicting Arousal from Brain Activity Using Spatio-Temporal GNNs\n",
        "## Example model training\n",
        "\n",
        "In this notebook, we show how to load the brain activity (resting fMRI) data and train an example model. The data is composed of 72, ten-minute brain scans. The brain data has been parcellated to include 116 or 630 general brain regions. 40 of the scans are from the fasted person while 32 of the scans are from the caffeinated person. We expect to see changes in brain connectivity between these two states due to caffeine influencing arousal.  \n",
        "\n",
        "The model ran here is a graph classification GNN. It is composed of 3 GCNConv layers, each followed by a ReLU non-linearity. Then, we sum a mean and max pooling of all the nodes in one graph, and pass this output through a linear layer and softmax to get the probability of the graph belonging to the caffeinated or the non-caffeinated class.\n"
      ],
      "metadata": {
        "id": "YIS9Mqtw3oI3"
      }
    },
    {
      "cell_type": "markdown",
      "source": [
        "### Install PyG and mount google drive"
      ],
      "metadata": {
        "id": "zrg-3QWM3LtY"
      }
    },
    {
      "cell_type": "code",
      "source": [
        "!pip install torch==2.4.0"
      ],
      "metadata": {
        "colab": {
          "base_uri": "https://localhost:8080/"
        },
        "id": "0i4BcLfLxDy6",
        "outputId": "73998332-4a86-49ba-d95c-a0849e90b107"
      },
      "execution_count": 2,
      "outputs": [
        {
          "output_type": "stream",
          "name": "stdout",
          "text": [
            "Requirement already satisfied: torch==2.4.0 in /usr/local/lib/python3.10/dist-packages (2.4.0)\n",
            "Requirement already satisfied: filelock in /usr/local/lib/python3.10/dist-packages (from torch==2.4.0) (3.16.1)\n",
            "Requirement already satisfied: typing-extensions>=4.8.0 in /usr/local/lib/python3.10/dist-packages (from torch==2.4.0) (4.12.2)\n",
            "Requirement already satisfied: sympy in /usr/local/lib/python3.10/dist-packages (from torch==2.4.0) (1.13.1)\n",
            "Requirement already satisfied: networkx in /usr/local/lib/python3.10/dist-packages (from torch==2.4.0) (3.4.2)\n",
            "Requirement already satisfied: jinja2 in /usr/local/lib/python3.10/dist-packages (from torch==2.4.0) (3.1.4)\n",
            "Requirement already satisfied: fsspec in /usr/local/lib/python3.10/dist-packages (from torch==2.4.0) (2024.10.0)\n",
            "Requirement already satisfied: nvidia-cuda-nvrtc-cu12==12.1.105 in /usr/local/lib/python3.10/dist-packages (from torch==2.4.0) (12.1.105)\n",
            "Requirement already satisfied: nvidia-cuda-runtime-cu12==12.1.105 in /usr/local/lib/python3.10/dist-packages (from torch==2.4.0) (12.1.105)\n",
            "Requirement already satisfied: nvidia-cuda-cupti-cu12==12.1.105 in /usr/local/lib/python3.10/dist-packages (from torch==2.4.0) (12.1.105)\n",
            "Requirement already satisfied: nvidia-cudnn-cu12==9.1.0.70 in /usr/local/lib/python3.10/dist-packages (from torch==2.4.0) (9.1.0.70)\n",
            "Requirement already satisfied: nvidia-cublas-cu12==12.1.3.1 in /usr/local/lib/python3.10/dist-packages (from torch==2.4.0) (12.1.3.1)\n",
            "Requirement already satisfied: nvidia-cufft-cu12==11.0.2.54 in /usr/local/lib/python3.10/dist-packages (from torch==2.4.0) (11.0.2.54)\n",
            "Requirement already satisfied: nvidia-curand-cu12==10.3.2.106 in /usr/local/lib/python3.10/dist-packages (from torch==2.4.0) (10.3.2.106)\n",
            "Requirement already satisfied: nvidia-cusolver-cu12==11.4.5.107 in /usr/local/lib/python3.10/dist-packages (from torch==2.4.0) (11.4.5.107)\n",
            "Requirement already satisfied: nvidia-cusparse-cu12==12.1.0.106 in /usr/local/lib/python3.10/dist-packages (from torch==2.4.0) (12.1.0.106)\n",
            "Requirement already satisfied: nvidia-nccl-cu12==2.20.5 in /usr/local/lib/python3.10/dist-packages (from torch==2.4.0) (2.20.5)\n",
            "Requirement already satisfied: nvidia-nvtx-cu12==12.1.105 in /usr/local/lib/python3.10/dist-packages (from torch==2.4.0) (12.1.105)\n",
            "Requirement already satisfied: triton==3.0.0 in /usr/local/lib/python3.10/dist-packages (from torch==2.4.0) (3.0.0)\n",
            "Requirement already satisfied: nvidia-nvjitlink-cu12 in /usr/local/lib/python3.10/dist-packages (from nvidia-cusolver-cu12==11.4.5.107->torch==2.4.0) (12.6.77)\n",
            "Requirement already satisfied: MarkupSafe>=2.0 in /usr/local/lib/python3.10/dist-packages (from jinja2->torch==2.4.0) (3.0.2)\n",
            "Requirement already satisfied: mpmath<1.4,>=1.1.0 in /usr/local/lib/python3.10/dist-packages (from sympy->torch==2.4.0) (1.3.0)\n"
          ]
        }
      ]
    },
    {
      "cell_type": "code",
      "source": [
        "! pip install torch-geometric-temporal"
      ],
      "metadata": {
        "colab": {
          "base_uri": "https://localhost:8080/"
        },
        "id": "d1JCmUs49UKJ",
        "outputId": "d3f835f7-db9d-4afd-dcf9-f7669246d23d"
      },
      "execution_count": 3,
      "outputs": [
        {
          "output_type": "stream",
          "name": "stdout",
          "text": [
            "Requirement already satisfied: torch-geometric-temporal in /usr/local/lib/python3.10/dist-packages (0.54.0)\n",
            "Requirement already satisfied: decorator==4.4.2 in /usr/local/lib/python3.10/dist-packages (from torch-geometric-temporal) (4.4.2)\n",
            "Requirement already satisfied: torch in /usr/local/lib/python3.10/dist-packages (from torch-geometric-temporal) (2.4.0)\n",
            "Requirement already satisfied: cython in /usr/local/lib/python3.10/dist-packages (from torch-geometric-temporal) (3.0.11)\n",
            "Requirement already satisfied: pandas<=1.3.5 in /usr/local/lib/python3.10/dist-packages (from torch-geometric-temporal) (1.3.5)\n",
            "Requirement already satisfied: torch-sparse in /usr/local/lib/python3.10/dist-packages (from torch-geometric-temporal) (0.6.18+pt24cu121)\n",
            "Requirement already satisfied: torch-scatter in /usr/local/lib/python3.10/dist-packages (from torch-geometric-temporal) (2.1.2+pt24cu121)\n",
            "Requirement already satisfied: torch-geometric in /usr/local/lib/python3.10/dist-packages (from torch-geometric-temporal) (2.6.1)\n",
            "Requirement already satisfied: numpy in /usr/local/lib/python3.10/dist-packages (from torch-geometric-temporal) (1.26.4)\n",
            "Requirement already satisfied: six in /usr/local/lib/python3.10/dist-packages (from torch-geometric-temporal) (1.16.0)\n",
            "Requirement already satisfied: networkx in /usr/local/lib/python3.10/dist-packages (from torch-geometric-temporal) (3.4.2)\n",
            "Requirement already satisfied: python-dateutil>=2.7.3 in /usr/local/lib/python3.10/dist-packages (from pandas<=1.3.5->torch-geometric-temporal) (2.8.2)\n",
            "Requirement already satisfied: pytz>=2017.3 in /usr/local/lib/python3.10/dist-packages (from pandas<=1.3.5->torch-geometric-temporal) (2024.2)\n",
            "Requirement already satisfied: filelock in /usr/local/lib/python3.10/dist-packages (from torch->torch-geometric-temporal) (3.16.1)\n",
            "Requirement already satisfied: typing-extensions>=4.8.0 in /usr/local/lib/python3.10/dist-packages (from torch->torch-geometric-temporal) (4.12.2)\n",
            "Requirement already satisfied: sympy in /usr/local/lib/python3.10/dist-packages (from torch->torch-geometric-temporal) (1.13.1)\n",
            "Requirement already satisfied: jinja2 in /usr/local/lib/python3.10/dist-packages (from torch->torch-geometric-temporal) (3.1.4)\n",
            "Requirement already satisfied: fsspec in /usr/local/lib/python3.10/dist-packages (from torch->torch-geometric-temporal) (2024.10.0)\n",
            "Requirement already satisfied: nvidia-cuda-nvrtc-cu12==12.1.105 in /usr/local/lib/python3.10/dist-packages (from torch->torch-geometric-temporal) (12.1.105)\n",
            "Requirement already satisfied: nvidia-cuda-runtime-cu12==12.1.105 in /usr/local/lib/python3.10/dist-packages (from torch->torch-geometric-temporal) (12.1.105)\n",
            "Requirement already satisfied: nvidia-cuda-cupti-cu12==12.1.105 in /usr/local/lib/python3.10/dist-packages (from torch->torch-geometric-temporal) (12.1.105)\n",
            "Requirement already satisfied: nvidia-cudnn-cu12==9.1.0.70 in /usr/local/lib/python3.10/dist-packages (from torch->torch-geometric-temporal) (9.1.0.70)\n",
            "Requirement already satisfied: nvidia-cublas-cu12==12.1.3.1 in /usr/local/lib/python3.10/dist-packages (from torch->torch-geometric-temporal) (12.1.3.1)\n",
            "Requirement already satisfied: nvidia-cufft-cu12==11.0.2.54 in /usr/local/lib/python3.10/dist-packages (from torch->torch-geometric-temporal) (11.0.2.54)\n",
            "Requirement already satisfied: nvidia-curand-cu12==10.3.2.106 in /usr/local/lib/python3.10/dist-packages (from torch->torch-geometric-temporal) (10.3.2.106)\n",
            "Requirement already satisfied: nvidia-cusolver-cu12==11.4.5.107 in /usr/local/lib/python3.10/dist-packages (from torch->torch-geometric-temporal) (11.4.5.107)\n",
            "Requirement already satisfied: nvidia-cusparse-cu12==12.1.0.106 in /usr/local/lib/python3.10/dist-packages (from torch->torch-geometric-temporal) (12.1.0.106)\n",
            "Requirement already satisfied: nvidia-nccl-cu12==2.20.5 in /usr/local/lib/python3.10/dist-packages (from torch->torch-geometric-temporal) (2.20.5)\n",
            "Requirement already satisfied: nvidia-nvtx-cu12==12.1.105 in /usr/local/lib/python3.10/dist-packages (from torch->torch-geometric-temporal) (12.1.105)\n",
            "Requirement already satisfied: triton==3.0.0 in /usr/local/lib/python3.10/dist-packages (from torch->torch-geometric-temporal) (3.0.0)\n",
            "Requirement already satisfied: nvidia-nvjitlink-cu12 in /usr/local/lib/python3.10/dist-packages (from nvidia-cusolver-cu12==11.4.5.107->torch->torch-geometric-temporal) (12.6.77)\n",
            "Requirement already satisfied: aiohttp in /usr/local/lib/python3.10/dist-packages (from torch-geometric->torch-geometric-temporal) (3.10.10)\n",
            "Requirement already satisfied: psutil>=5.8.0 in /usr/local/lib/python3.10/dist-packages (from torch-geometric->torch-geometric-temporal) (5.9.5)\n",
            "Requirement already satisfied: pyparsing in /usr/local/lib/python3.10/dist-packages (from torch-geometric->torch-geometric-temporal) (3.2.0)\n",
            "Requirement already satisfied: requests in /usr/local/lib/python3.10/dist-packages (from torch-geometric->torch-geometric-temporal) (2.32.3)\n",
            "Requirement already satisfied: tqdm in /usr/local/lib/python3.10/dist-packages (from torch-geometric->torch-geometric-temporal) (4.66.6)\n",
            "Requirement already satisfied: scipy in /usr/local/lib/python3.10/dist-packages (from torch-sparse->torch-geometric-temporal) (1.13.1)\n",
            "Requirement already satisfied: aiohappyeyeballs>=2.3.0 in /usr/local/lib/python3.10/dist-packages (from aiohttp->torch-geometric->torch-geometric-temporal) (2.4.3)\n",
            "Requirement already satisfied: aiosignal>=1.1.2 in /usr/local/lib/python3.10/dist-packages (from aiohttp->torch-geometric->torch-geometric-temporal) (1.3.1)\n",
            "Requirement already satisfied: attrs>=17.3.0 in /usr/local/lib/python3.10/dist-packages (from aiohttp->torch-geometric->torch-geometric-temporal) (24.2.0)\n",
            "Requirement already satisfied: frozenlist>=1.1.1 in /usr/local/lib/python3.10/dist-packages (from aiohttp->torch-geometric->torch-geometric-temporal) (1.5.0)\n",
            "Requirement already satisfied: multidict<7.0,>=4.5 in /usr/local/lib/python3.10/dist-packages (from aiohttp->torch-geometric->torch-geometric-temporal) (6.1.0)\n",
            "Requirement already satisfied: yarl<2.0,>=1.12.0 in /usr/local/lib/python3.10/dist-packages (from aiohttp->torch-geometric->torch-geometric-temporal) (1.17.0)\n",
            "Requirement already satisfied: async-timeout<5.0,>=4.0 in /usr/local/lib/python3.10/dist-packages (from aiohttp->torch-geometric->torch-geometric-temporal) (4.0.3)\n",
            "Requirement already satisfied: MarkupSafe>=2.0 in /usr/local/lib/python3.10/dist-packages (from jinja2->torch->torch-geometric-temporal) (3.0.2)\n",
            "Requirement already satisfied: charset-normalizer<4,>=2 in /usr/local/lib/python3.10/dist-packages (from requests->torch-geometric->torch-geometric-temporal) (3.4.0)\n",
            "Requirement already satisfied: idna<4,>=2.5 in /usr/local/lib/python3.10/dist-packages (from requests->torch-geometric->torch-geometric-temporal) (3.10)\n",
            "Requirement already satisfied: urllib3<3,>=1.21.1 in /usr/local/lib/python3.10/dist-packages (from requests->torch-geometric->torch-geometric-temporal) (2.2.3)\n",
            "Requirement already satisfied: certifi>=2017.4.17 in /usr/local/lib/python3.10/dist-packages (from requests->torch-geometric->torch-geometric-temporal) (2024.8.30)\n",
            "Requirement already satisfied: mpmath<1.4,>=1.1.0 in /usr/local/lib/python3.10/dist-packages (from sympy->torch->torch-geometric-temporal) (1.3.0)\n",
            "Requirement already satisfied: propcache>=0.2.0 in /usr/local/lib/python3.10/dist-packages (from yarl<2.0,>=1.12.0->aiohttp->torch-geometric->torch-geometric-temporal) (0.2.0)\n"
          ]
        }
      ]
    },
    {
      "cell_type": "code",
      "source": [
        "# Install torch geometric\n",
        "import os\n",
        "import torch"
      ],
      "metadata": {
        "id": "nqMm-gvyxBPQ"
      },
      "execution_count": 4,
      "outputs": []
    },
    {
      "cell_type": "code",
      "source": [
        "torch_version = str(torch.__version__)\n",
        "scatter_src = f\"https://pytorch-geometric.com/whl/torch-{torch_version}.html\"\n",
        "sparse_src = f\"https://pytorch-geometric.com/whl/torch-{torch_version}.html\"\n",
        "!pip install torch-scatter -f $scatter_src\n",
        "!pip install torch-sparse -f $sparse_src\n",
        "!pip install torch-geometric\n",
        "!pip install -q git+https://github.com/snap-stanford/deepsnap.git"
      ],
      "metadata": {
        "colab": {
          "base_uri": "https://localhost:8080/"
        },
        "id": "MiBiyT2JxHmK",
        "outputId": "39599b5f-625b-4371-96eb-99fc7e57ffef"
      },
      "execution_count": 5,
      "outputs": [
        {
          "output_type": "stream",
          "name": "stdout",
          "text": [
            "Looking in links: https://pytorch-geometric.com/whl/torch-2.4.0+cu121.html\n",
            "Requirement already satisfied: torch-scatter in /usr/local/lib/python3.10/dist-packages (2.1.2+pt24cu121)\n",
            "Looking in links: https://pytorch-geometric.com/whl/torch-2.4.0+cu121.html\n",
            "Requirement already satisfied: torch-sparse in /usr/local/lib/python3.10/dist-packages (0.6.18+pt24cu121)\n",
            "Requirement already satisfied: scipy in /usr/local/lib/python3.10/dist-packages (from torch-sparse) (1.13.1)\n",
            "Requirement already satisfied: numpy<2.3,>=1.22.4 in /usr/local/lib/python3.10/dist-packages (from scipy->torch-sparse) (1.26.4)\n",
            "Requirement already satisfied: torch-geometric in /usr/local/lib/python3.10/dist-packages (2.6.1)\n",
            "Requirement already satisfied: aiohttp in /usr/local/lib/python3.10/dist-packages (from torch-geometric) (3.10.10)\n",
            "Requirement already satisfied: fsspec in /usr/local/lib/python3.10/dist-packages (from torch-geometric) (2024.10.0)\n",
            "Requirement already satisfied: jinja2 in /usr/local/lib/python3.10/dist-packages (from torch-geometric) (3.1.4)\n",
            "Requirement already satisfied: numpy in /usr/local/lib/python3.10/dist-packages (from torch-geometric) (1.26.4)\n",
            "Requirement already satisfied: psutil>=5.8.0 in /usr/local/lib/python3.10/dist-packages (from torch-geometric) (5.9.5)\n",
            "Requirement already satisfied: pyparsing in /usr/local/lib/python3.10/dist-packages (from torch-geometric) (3.2.0)\n",
            "Requirement already satisfied: requests in /usr/local/lib/python3.10/dist-packages (from torch-geometric) (2.32.3)\n",
            "Requirement already satisfied: tqdm in /usr/local/lib/python3.10/dist-packages (from torch-geometric) (4.66.6)\n",
            "Requirement already satisfied: aiohappyeyeballs>=2.3.0 in /usr/local/lib/python3.10/dist-packages (from aiohttp->torch-geometric) (2.4.3)\n",
            "Requirement already satisfied: aiosignal>=1.1.2 in /usr/local/lib/python3.10/dist-packages (from aiohttp->torch-geometric) (1.3.1)\n",
            "Requirement already satisfied: attrs>=17.3.0 in /usr/local/lib/python3.10/dist-packages (from aiohttp->torch-geometric) (24.2.0)\n",
            "Requirement already satisfied: frozenlist>=1.1.1 in /usr/local/lib/python3.10/dist-packages (from aiohttp->torch-geometric) (1.5.0)\n",
            "Requirement already satisfied: multidict<7.0,>=4.5 in /usr/local/lib/python3.10/dist-packages (from aiohttp->torch-geometric) (6.1.0)\n",
            "Requirement already satisfied: yarl<2.0,>=1.12.0 in /usr/local/lib/python3.10/dist-packages (from aiohttp->torch-geometric) (1.17.0)\n",
            "Requirement already satisfied: async-timeout<5.0,>=4.0 in /usr/local/lib/python3.10/dist-packages (from aiohttp->torch-geometric) (4.0.3)\n",
            "Requirement already satisfied: MarkupSafe>=2.0 in /usr/local/lib/python3.10/dist-packages (from jinja2->torch-geometric) (3.0.2)\n",
            "Requirement already satisfied: charset-normalizer<4,>=2 in /usr/local/lib/python3.10/dist-packages (from requests->torch-geometric) (3.4.0)\n",
            "Requirement already satisfied: idna<4,>=2.5 in /usr/local/lib/python3.10/dist-packages (from requests->torch-geometric) (3.10)\n",
            "Requirement already satisfied: urllib3<3,>=1.21.1 in /usr/local/lib/python3.10/dist-packages (from requests->torch-geometric) (2.2.3)\n",
            "Requirement already satisfied: certifi>=2017.4.17 in /usr/local/lib/python3.10/dist-packages (from requests->torch-geometric) (2024.8.30)\n",
            "Requirement already satisfied: typing-extensions>=4.1.0 in /usr/local/lib/python3.10/dist-packages (from multidict<7.0,>=4.5->aiohttp->torch-geometric) (4.12.2)\n",
            "Requirement already satisfied: propcache>=0.2.0 in /usr/local/lib/python3.10/dist-packages (from yarl<2.0,>=1.12.0->aiohttp->torch-geometric) (0.2.0)\n",
            "  Preparing metadata (setup.py) ... \u001b[?25l\u001b[?25hdone\n"
          ]
        }
      ]
    },
    {
      "cell_type": "code",
      "source": [
        "import torch_geometric\n",
        "torch_geometric.__version__"
      ],
      "metadata": {
        "colab": {
          "base_uri": "https://localhost:8080/",
          "height": 35
        },
        "id": "d04GSUNmxLAO",
        "outputId": "b5c5cdca-559c-4e79-a8de-ad8ee28050e9"
      },
      "execution_count": 6,
      "outputs": [
        {
          "output_type": "execute_result",
          "data": {
            "text/plain": [
              "'2.6.1'"
            ],
            "application/vnd.google.colaboratory.intrinsic+json": {
              "type": "string"
            }
          },
          "metadata": {},
          "execution_count": 6
        }
      ]
    },
    {
      "cell_type": "code",
      "source": [
        "from google.colab import drive\n",
        "drive.mount('/content/drive')"
      ],
      "metadata": {
        "colab": {
          "base_uri": "https://localhost:8080/"
        },
        "id": "ckVgAsf11tyT",
        "outputId": "7510e38f-2254-46a4-fe63-4e96e2ee8445"
      },
      "execution_count": 7,
      "outputs": [
        {
          "output_type": "stream",
          "name": "stdout",
          "text": [
            "Drive already mounted at /content/drive; to attempt to forcibly remount, call drive.mount(\"/content/drive\", force_remount=True).\n"
          ]
        }
      ]
    },
    {
      "cell_type": "markdown",
      "source": [
        "## Create graph dataset\n",
        "\n",
        "In this case, we are creating a custom dataset with 72 graphs. We are including connectivity between the nodes and an attribute to hold the time series."
      ],
      "metadata": {
        "id": "ggQY9DnaJh53"
      }
    },
    {
      "cell_type": "code",
      "source": [
        "import os\n",
        "import torch\n",
        "import pandas as pd\n",
        "import numpy as np\n",
        "import networkx as nx\n",
        "from sklearn.model_selection import train_test_split\n",
        "from torch_geometric.data import Data\n",
        "import torch_geometric.utils as pyg_utils\n",
        "import datetime\n",
        "import matplotlib.pyplot as plt\n",
        "from torch_geometric.data import InMemoryDataset, Data\n",
        "import torch.nn.functional as F"
      ],
      "metadata": {
        "id": "sKxmdSwcjrWn"
      },
      "execution_count": 95,
      "outputs": []
    },
    {
      "cell_type": "code",
      "source": [
        "def load_labels(path, sep = \",\"):\n",
        "  labels= pd.read_csv(path)\n",
        "  return labels"
      ],
      "metadata": {
        "id": "2_CcxD_8Qhfr"
      },
      "execution_count": 96,
      "outputs": []
    },
    {
      "cell_type": "code",
      "source": [
        "def create_connectivity_graphs(connectivity_path, timeseries_path, labels, sep = \",\", normalize = True, one_hot = False, embedding_layer = None):\n",
        "  \"\"\"\n",
        "  Takes in the path where all the connectivity matrices and timeseries data are and a DataFrame Labels with the subject codes\n",
        "  Outputs a list of PyG Data graphs (undirected, weighted normalized)\n",
        "  \"\"\"\n",
        "\n",
        "  graphs = []\n",
        "  for sub in labels[\"subcode\"]:\n",
        "    connectivity_file_pth = os.path.join(connectivity_path, f\"{sub}.txt\")\n",
        "    timeseries_file_pth = os.path.join(timeseries_path, f\"{sub}.txt\")\n",
        "\n",
        "    if not os.path.exists(connectivity_file_pth) or not os.path.exists(timeseries_file_pth):\n",
        "      continue\n",
        "\n",
        "    # Load graph into networkx based on connectivity\n",
        "    matrix = pd.read_csv(connectivity_file_pth, sep=sep, header=None).to_numpy()[1:, 1:]\n",
        "    matrix -= np.identity(matrix.shape[0])\n",
        "\n",
        "    timeseries = pd.read_csv(timeseries_file_pth, sep=sep, header=None).to_numpy()[1:, 1:].T\n",
        "\n",
        "    if normalize:\n",
        "      # Take absolute value of correlation and make sure each connection sums to 1.\n",
        "      matrix = np.abs(matrix)\n",
        "      row_sums = matrix.sum(axis=1, keepdims=True)\n",
        "      matrix = matrix / (row_sums)\n",
        "    G = nx.from_numpy_array(matrix)\n",
        "\n",
        "\n",
        "    # Convert the graph to PyTorch Geometric format\n",
        "    data = pyg_utils.from_networkx(G)\n",
        "\n",
        "    # Initialize node features (random)\n",
        "    num_nodes = data.num_nodes\n",
        "    if embedding_layer:\n",
        "        roi_ids = torch.arange(num_nodes)\n",
        "        with torch.no_grad():\n",
        "          data.x = F.normalize(embedding_layer(roi_ids), p=2, dim=1)\n",
        "    else:\n",
        "      one_hot = True\n",
        "    if one_hot:\n",
        "      # One-hot encoding for the brain regions\n",
        "      data.x = torch.eye(num_nodes)\n",
        "\n",
        "    # Assign label\n",
        "    caffeinated = labels.query(f\"subcode == '{sub}'\")[\"caffeinated\"].iloc[0]\n",
        "    data.y = torch.tensor([caffeinated], dtype=torch.long)  # Binary labels: 0 or 1\n",
        "    data.timeseries = timeseries\n",
        "    graphs.append(data)\n",
        "\n",
        "  return graphs"
      ],
      "metadata": {
        "id": "4lEe3Wg9h0NV"
      },
      "execution_count": 97,
      "outputs": []
    },
    {
      "cell_type": "code",
      "source": [
        "class MyConnectomeDataset(InMemoryDataset):\n",
        "    def __init__(self, graphs, transform=None, pre_transform=None):\n",
        "        super().__init__(None, transform, pre_transform)\n",
        "        self.data, self.slices = self.collate(graphs)"
      ],
      "metadata": {
        "id": "HoatleVuy8or"
      },
      "execution_count": 98,
      "outputs": []
    },
    {
      "cell_type": "code",
      "source": [
        "embedding_dim = 32  # Dimension of each area embedding\n",
        "num_brain_rois = 116\n",
        "embedding_layer = torch.nn.Embedding(num_brain_rois, embedding_dim)"
      ],
      "metadata": {
        "id": "cSRY8Db1H7VV"
      },
      "execution_count": 99,
      "outputs": []
    },
    {
      "cell_type": "code",
      "source": [
        "# Create graphs\n",
        "connecivity_dir = \"/content/drive/MyDrive/CS224W Project/data/connectivity_aa116\"\n",
        "timeseries_dir = \"/content/drive/MyDrive/CS224W Project/data/timeseries_aa116\"\n",
        "labels_dir = \"/content/drive/MyDrive/CS224W Project/data/labels.csv\"\n",
        "\n",
        "# Load labels\n",
        "labels= load_labels(labels_dir)\n",
        "# Load connectivity matrices\n",
        "graphs = create_connectivity_graphs(connecivity_dir, timeseries_dir, labels, embedding_layer = embedding_layer)"
      ],
      "metadata": {
        "id": "uEwe8ONMI2nB"
      },
      "execution_count": 100,
      "outputs": []
    },
    {
      "cell_type": "code",
      "source": [
        "dataset = MyConnectomeDataset(graphs)"
      ],
      "metadata": {
        "id": "FxgkU7MTzOov"
      },
      "execution_count": 101,
      "outputs": []
    },
    {
      "cell_type": "code",
      "source": [
        "# Print information about the dataset\n",
        "print(f'Dataset: {dataset}')\n",
        "print('-------------------')\n",
        "print(f'Number of graphs: {len(dataset)}')\n",
        "print(f'Number of nodes: {dataset[0].x.shape[0]}')\n",
        "print(f'Number of features: {dataset.num_features}')\n",
        "print(f'Number of classes: {dataset.num_classes}')\n",
        "print(f'Number of time points: {dataset[0].timeseries.shape[1]}')"
      ],
      "metadata": {
        "colab": {
          "base_uri": "https://localhost:8080/"
        },
        "id": "nWuy6P18Opv8",
        "outputId": "badbd5ef-839f-49b8-d1fa-c50e301d0f29"
      },
      "execution_count": 102,
      "outputs": [
        {
          "output_type": "stream",
          "name": "stdout",
          "text": [
            "Dataset: MyConnectomeDataset(72)\n",
            "-------------------\n",
            "Number of graphs: 72\n",
            "Number of nodes: 116\n",
            "Number of features: 32\n",
            "Number of classes: 2\n",
            "Number of time points: 518\n"
          ]
        }
      ]
    },
    {
      "cell_type": "markdown",
      "source": [
        "### Divide into training and testing"
      ],
      "metadata": {
        "id": "ifKWL-W0yg1s"
      }
    },
    {
      "cell_type": "code",
      "source": [
        "torch.manual_seed(12345)\n",
        "dataset = dataset.shuffle()\n",
        "\n",
        "train_dataset = dataset[:50]\n",
        "test_dataset = dataset[50:]\n",
        "\n",
        "print(f'Number of training graphs: {len(train_dataset)}')\n",
        "print(f'Number of test graphs: {len(test_dataset)}')"
      ],
      "metadata": {
        "colab": {
          "base_uri": "https://localhost:8080/"
        },
        "id": "xCCt0xo8ylEA",
        "outputId": "447649bc-37fc-418d-d3ad-0798896a367d"
      },
      "execution_count": 103,
      "outputs": [
        {
          "output_type": "stream",
          "name": "stdout",
          "text": [
            "Number of training graphs: 50\n",
            "Number of test graphs: 22\n"
          ]
        }
      ]
    },
    {
      "cell_type": "code",
      "source": [
        "from torch_geometric.loader import DataLoader\n",
        "\n",
        "train_loader = DataLoader(train_dataset, batch_size=4, shuffle=True)\n",
        "test_loader = DataLoader(test_dataset, batch_size=4, shuffle=False)"
      ],
      "metadata": {
        "id": "jUEPoH_jz0Bb"
      },
      "execution_count": 104,
      "outputs": []
    },
    {
      "cell_type": "markdown",
      "source": [
        "### Create simple GNN graph classifier\n",
        "First, we implement a GNN Graph classifier model that only uses the connectivity matrices.\n",
        "\n",
        "Ref: https://pytorch-geometric.readthedocs.io/en/2.4.0/get_started/introduction.html"
      ],
      "metadata": {
        "id": "iJCU8doF4UKn"
      }
    },
    {
      "cell_type": "code",
      "source": [
        "import torch.nn.functional as F\n",
        "from torch_geometric.nn import GCNConv\n",
        "from torch.nn import Linear, ReLU\n",
        "from torch_geometric.nn import global_max_pool, global_mean_pool, BatchNorm\n",
        "\n",
        "class GCN(torch.nn.Module):\n",
        "    def __init__(self, hidden_dim = 16):\n",
        "        super().__init__()\n",
        "        self.conv1 = GCNConv(dataset.num_node_features, hidden_dim)\n",
        "        self.conv2 = GCNConv(hidden_dim, hidden_dim)\n",
        "        self.conv3 = GCNConv(hidden_dim, hidden_dim)\n",
        "        self.bn1 = BatchNorm(hidden_dim)\n",
        "        self.bn2 = BatchNorm(hidden_dim)\n",
        "        self.bn3 = BatchNorm(hidden_dim)\n",
        "        self.lin = Linear(hidden_dim, dataset.num_classes)\n",
        "        self.relu = ReLU()\n",
        "\n",
        "    def forward(self, data):\n",
        "        x, edge_index, edge_weight = data.x, data.edge_index, data.weight\n",
        "\n",
        "        x = self.conv1(x, edge_index, edge_weight = edge_weight)\n",
        "        x = self.bn1(x)\n",
        "        x = self.relu(x)\n",
        "        x = self.conv2(x, edge_index, edge_weight = edge_weight)\n",
        "        x = self.bn2(x)\n",
        "        x = self.relu(x)\n",
        "        x = self.conv3(x, edge_index, edge_weight = edge_weight)\n",
        "        x = self.bn3(x)\n",
        "        x = self.relu(x)\n",
        "        x = global_max_pool(x, data.batch) + global_mean_pool(x, data.batch)\n",
        "        x = self.lin(x)\n",
        "        # x = F.softmax(x, dim = 1)\n",
        "\n",
        "        return x\n",
        "\n",
        "device = torch.device('cuda' if torch.cuda.is_available() else 'cpu')\n",
        "print('Device', device)\n",
        "\n",
        "model = GCN(hidden_dim=16).to(device)\n",
        "model = GCN()\n",
        "print(model)"
      ],
      "metadata": {
        "id": "AT42iAHf4YKD",
        "colab": {
          "base_uri": "https://localhost:8080/"
        },
        "outputId": "1b90a62a-cc83-4111-b0a4-9f1aeb0d2488"
      },
      "execution_count": 108,
      "outputs": [
        {
          "output_type": "stream",
          "name": "stdout",
          "text": [
            "Device cpu\n",
            "GCN(\n",
            "  (conv1): GCNConv(32, 16)\n",
            "  (conv2): GCNConv(16, 16)\n",
            "  (conv3): GCNConv(16, 16)\n",
            "  (bn1): BatchNorm(16, eps=1e-05, momentum=0.1, affine=True, track_running_stats=True)\n",
            "  (bn2): BatchNorm(16, eps=1e-05, momentum=0.1, affine=True, track_running_stats=True)\n",
            "  (bn3): BatchNorm(16, eps=1e-05, momentum=0.1, affine=True, track_running_stats=True)\n",
            "  (lin): Linear(in_features=16, out_features=2, bias=True)\n",
            "  (relu): ReLU()\n",
            ")\n"
          ]
        }
      ]
    },
    {
      "cell_type": "markdown",
      "source": [
        "### Train and test model\n",
        "Notice that the performance is very poor (basically predicting the same category for all). This implies we could leverage using temporal data."
      ],
      "metadata": {
        "id": "O-lyylzj92zo"
      }
    },
    {
      "cell_type": "code",
      "source": [
        "def evaluate_model(model, data_loader):\n",
        "    model.eval()\n",
        "    correct_per_class = {0: 0, 1: 0}\n",
        "    incorrect_per_class = {0: 0, 1: 0}\n",
        "\n",
        "    with torch.no_grad():  # Disable gradient calculations for evaluation\n",
        "        for data in data_loader:\n",
        "            data = data.to(device)\n",
        "            out = model(data)\n",
        "            pred = out.argmax(dim=1)  # Get predicted class\n",
        "\n",
        "            # Compare predictions to actual labels\n",
        "            for i in range(len(pred)):\n",
        "                true_label = data.y[i].item()\n",
        "                predicted_label = pred[i].item()\n",
        "                if predicted_label == true_label:\n",
        "                    correct_per_class[true_label] += 1\n",
        "                else:\n",
        "                    incorrect_per_class[true_label] += 1\n",
        "\n",
        "    return correct_per_class, incorrect_per_class"
      ],
      "metadata": {
        "id": "LfwAHL-ViCg8"
      },
      "execution_count": 109,
      "outputs": []
    },
    {
      "cell_type": "code",
      "source": [
        "optimizer = torch.optim.Adam(model.parameters(), lr=0.01, weight_decay=5e-4)\n",
        "\n",
        "model.train()\n",
        "for epoch in range(100):\n",
        "    loss_all = 0\n",
        "    predicted, real = [], []\n",
        "    for batch_data in train_loader:\n",
        "        batch_data = batch_data.to(device)\n",
        "        optimizer.zero_grad()  # Reset gradients from the previous iteration\n",
        "        out = model(batch_data)\n",
        "        pred = out.argmax(dim=1)\n",
        "        loss = F.nll_loss(out, batch_data.y)\n",
        "        loss.backward()  # Calculate gradients\n",
        "        loss_all += batch_data.num_graphs * loss.item()\n",
        "        optimizer.step()  # Update model parameters based on calculated gradients\n",
        "\n",
        "    if epoch % 10 == 0:\n",
        "        print(f'epoch: {epoch}, loss: {loss_all}')\n",
        "        print()"
      ],
      "metadata": {
        "colab": {
          "base_uri": "https://localhost:8080/"
        },
        "id": "-UXEl5wBztuV",
        "outputId": "9b169e70-c543-410e-9bfb-9d2042d4b81a"
      },
      "execution_count": 110,
      "outputs": [
        {
          "output_type": "stream",
          "name": "stdout",
          "text": [
            "epoch: 0, loss: -441.4660530090332\n",
            "\n",
            "epoch: 10, loss: -42916.19177246094\n",
            "\n",
            "epoch: 20, loss: -162427.21630859375\n",
            "\n",
            "epoch: 30, loss: -365231.0126953125\n",
            "\n",
            "epoch: 40, loss: -647005.12890625\n",
            "\n",
            "epoch: 50, loss: -1001379.03125\n",
            "\n",
            "epoch: 60, loss: -1428241.46875\n",
            "\n",
            "epoch: 70, loss: -1922525.5078125\n",
            "\n",
            "epoch: 80, loss: -2483750.015625\n",
            "\n",
            "epoch: 90, loss: -3110322.28125\n",
            "\n"
          ]
        }
      ]
    },
    {
      "cell_type": "code",
      "source": [
        "# Evaluation on the training set\n",
        "train_correct, train_incorrect = evaluate_model(model, train_loader)\n",
        "print(\"Training Set Evaluation:\")\n",
        "print(f\"Correct predictions per class: {train_correct}\")\n",
        "print(f\"Incorrect predictions per class: {train_incorrect}\")\n",
        "\n",
        "# Evaluation on the test set\n",
        "test_correct, test_incorrect = evaluate_model(model, test_loader)\n",
        "print(\"Test Set Evaluation:\")\n",
        "print(f\"Correct predictions per class: {test_correct}\")\n",
        "print(f\"Incorrect predictions per class: {test_incorrect}\")"
      ],
      "metadata": {
        "colab": {
          "base_uri": "https://localhost:8080/"
        },
        "id": "CKTnGJxCiAnT",
        "outputId": "51f695e2-07b1-405f-f4f5-4357f4f9a12b"
      },
      "execution_count": 111,
      "outputs": [
        {
          "output_type": "stream",
          "name": "stdout",
          "text": [
            "Training Set Evaluation:\n",
            "Correct predictions per class: {0: 27, 1: 0}\n",
            "Incorrect predictions per class: {0: 0, 1: 23}\n",
            "Test Set Evaluation:\n",
            "Correct predictions per class: {0: 13, 1: 0}\n",
            "Incorrect predictions per class: {0: 0, 1: 9}\n"
          ]
        }
      ]
    }
  ]
}