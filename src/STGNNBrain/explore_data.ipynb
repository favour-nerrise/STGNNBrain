{
 "cells": [
  {
   "cell_type": "markdown",
   "metadata": {},
   "source": [
    "# Exploring the data\n",
    "In this notebook, we show you how to navigate the data. "
   ]
  },
  {
   "cell_type": "code",
   "execution_count": 10,
   "metadata": {},
   "outputs": [],
   "source": [
    "import numpy as np\n",
    "import pandas as pd\n",
    "import os\n",
    "import datetime\n",
    "from STGNNBrain.config import Config"
   ]
  },
  {
   "cell_type": "code",
   "execution_count": 8,
   "metadata": {},
   "outputs": [],
   "source": [
    "# Get the data path\n",
    "config = Config()\n",
    "user_ID = config.current_user_ID\n",
    "data_pth = config.data_pth[user_ID]"
   ]
  },
  {
   "cell_type": "code",
   "execution_count": 23,
   "metadata": {},
   "outputs": [],
   "source": [
    "# time series data for one resting state scan\n",
    "scan_ID = \"sub014.txt\"\n",
    "scan_data = pd.read_csv(os.path.join(data_pth, \"timeseries\", scan_ID), sep=\" \", header=None).to_numpy()"
   ]
  },
  {
   "cell_type": "code",
   "execution_count": 25,
   "metadata": {},
   "outputs": [
    {
     "name": "stdout",
     "output_type": "stream",
     "text": [
      "Number of time points = 518\n",
      "Number of parcels = 630\n"
     ]
    }
   ],
   "source": [
    "print(f\"Number of time points = {scan_data.shape[0]}\")\n",
    "print(f\"Number of parcels = {scan_data.shape[1]}\")"
   ]
  },
  {
   "cell_type": "code",
   "execution_count": 48,
   "metadata": {},
   "outputs": [
    {
     "data": {
      "text/html": [
       "<div>\n",
       "<style scoped>\n",
       "    .dataframe tbody tr th:only-of-type {\n",
       "        vertical-align: middle;\n",
       "    }\n",
       "\n",
       "    .dataframe tbody tr th {\n",
       "        vertical-align: top;\n",
       "    }\n",
       "\n",
       "    .dataframe thead th {\n",
       "        text-align: right;\n",
       "    }\n",
       "</style>\n",
       "<table border=\"1\" class=\"dataframe\">\n",
       "  <thead>\n",
       "    <tr style=\"text-align: right;\">\n",
       "      <th></th>\n",
       "      <th>ID</th>\n",
       "      <th>Hemisphere</th>\n",
       "      <th>X_Coordinate</th>\n",
       "      <th>Y_Coordinate</th>\n",
       "      <th>Z_Coordinate</th>\n",
       "      <th>Lobe</th>\n",
       "      <th>Region</th>\n",
       "      <th>Network</th>\n",
       "      <th>7Network_Label</th>\n",
       "      <th>17Network_Label</th>\n",
       "    </tr>\n",
       "  </thead>\n",
       "  <tbody>\n",
       "    <tr>\n",
       "      <th>0</th>\n",
       "      <td>1</td>\n",
       "      <td>L</td>\n",
       "      <td>-8.05</td>\n",
       "      <td>-45.62</td>\n",
       "      <td>38.36</td>\n",
       "      <td>Parietal</td>\n",
       "      <td>isthmuscingulate</td>\n",
       "      <td>DMN</td>\n",
       "      <td>7Networks_7</td>\n",
       "      <td>17Networks_16</td>\n",
       "    </tr>\n",
       "    <tr>\n",
       "      <th>1</th>\n",
       "      <td>2</td>\n",
       "      <td>L</td>\n",
       "      <td>-17.27</td>\n",
       "      <td>-33.34</td>\n",
       "      <td>70.16</td>\n",
       "      <td>Frontal</td>\n",
       "      <td>superiorparietal</td>\n",
       "      <td>Somatomotor</td>\n",
       "      <td>7Networks_2</td>\n",
       "      <td>17Networks_3</td>\n",
       "    </tr>\n",
       "    <tr>\n",
       "      <th>2</th>\n",
       "      <td>3</td>\n",
       "      <td>L</td>\n",
       "      <td>-53.26</td>\n",
       "      <td>-4.77</td>\n",
       "      <td>37.48</td>\n",
       "      <td>Frontal</td>\n",
       "      <td>precentral</td>\n",
       "      <td>Somatomotor</td>\n",
       "      <td>7Networks_2</td>\n",
       "      <td>17Networks_4</td>\n",
       "    </tr>\n",
       "    <tr>\n",
       "      <th>3</th>\n",
       "      <td>4</td>\n",
       "      <td>L</td>\n",
       "      <td>-6.78</td>\n",
       "      <td>10.31</td>\n",
       "      <td>54.54</td>\n",
       "      <td>Frontal</td>\n",
       "      <td>superiorfrontal</td>\n",
       "      <td>Ventral_Attention</td>\n",
       "      <td>7Networks_4</td>\n",
       "      <td>17Networks_7</td>\n",
       "    </tr>\n",
       "    <tr>\n",
       "      <th>4</th>\n",
       "      <td>5</td>\n",
       "      <td>L</td>\n",
       "      <td>-14.99</td>\n",
       "      <td>-95.83</td>\n",
       "      <td>17.00</td>\n",
       "      <td>Occipital</td>\n",
       "      <td>superiorparietal</td>\n",
       "      <td>Visual_2</td>\n",
       "      <td>7Networks_1</td>\n",
       "      <td>17Networks_1</td>\n",
       "    </tr>\n",
       "  </tbody>\n",
       "</table>\n",
       "</div>"
      ],
      "text/plain": [
       "   ID Hemisphere  X_Coordinate  Y_Coordinate  Z_Coordinate       Lobe  \\\n",
       "0   1          L         -8.05        -45.62         38.36   Parietal   \n",
       "1   2          L        -17.27        -33.34         70.16    Frontal   \n",
       "2   3          L        -53.26         -4.77         37.48    Frontal   \n",
       "3   4          L         -6.78         10.31         54.54    Frontal   \n",
       "4   5          L        -14.99        -95.83         17.00  Occipital   \n",
       "\n",
       "             Region            Network 7Network_Label 17Network_Label  \n",
       "0  isthmuscingulate                DMN    7Networks_7   17Networks_16  \n",
       "1  superiorparietal        Somatomotor    7Networks_2    17Networks_3  \n",
       "2        precentral        Somatomotor    7Networks_2    17Networks_4  \n",
       "3   superiorfrontal  Ventral_Attention    7Networks_4    17Networks_7  \n",
       "4  superiorparietal           Visual_2    7Networks_1    17Networks_1  "
      ]
     },
     "execution_count": 48,
     "metadata": {},
     "output_type": "execute_result"
    }
   ],
   "source": [
    "# parcel metadata\n",
    "parcel_metadata = pd.read_csv(os.path.join(data_pth, \"parcel_data.txt\"), sep = \"\\t\", header=None)\n",
    "parcel_metadata.columns = [\"ID\", \"Hemisphere\", \"X_Coordinate\", \"Y_Coordinate\", \"Z_Coordinate\", \n",
    "                            \"Lobe\", \"Region\", \"Network\", \"7Network_Label\", \"17Network_Label\"]\n",
    "parcel_metadata.head()"
   ]
  },
  {
   "cell_type": "code",
   "execution_count": 72,
   "metadata": {},
   "outputs": [],
   "source": [
    "# labeling the data fasted vs non-fasted\n",
    "metadata = pd.read_csv(os.path.join(data_pth, 'trackingdata_goodscans.txt'), sep = \"\\t\")\n",
    "dayofweek = []\n",
    "for i in range(metadata.shape[0]):\n",
    "    dt = metadata[\"date\"][i]\n",
    "    year, month, day = (int(x) for x in dt.split('-'))    \n",
    "    ans = datetime.date(year, month, day)\n",
    "    dayofweek.append(ans.strftime('%A'))\n",
    "metadata[\"dayofweek\"] = dayofweek"
   ]
  },
  {
   "cell_type": "markdown",
   "metadata": {},
   "source": [
    "* Mondays: Afternoon scan (non-fasted)\n",
    "* Tuesdays: Morning scan (fasted)\n",
    "* Thursdays: Morning scan (unfasted and caffeinated)"
   ]
  },
  {
   "cell_type": "code",
   "execution_count": 75,
   "metadata": {},
   "outputs": [
    {
     "data": {
      "text/html": [
       "<div>\n",
       "<style scoped>\n",
       "    .dataframe tbody tr th:only-of-type {\n",
       "        vertical-align: middle;\n",
       "    }\n",
       "\n",
       "    .dataframe tbody tr th {\n",
       "        vertical-align: top;\n",
       "    }\n",
       "\n",
       "    .dataframe thead th {\n",
       "        text-align: right;\n",
       "    }\n",
       "</style>\n",
       "<table border=\"1\" class=\"dataframe\">\n",
       "  <thead>\n",
       "    <tr style=\"text-align: right;\">\n",
       "      <th></th>\n",
       "      <th>subcode</th>\n",
       "      <th>dayofweek</th>\n",
       "    </tr>\n",
       "  </thead>\n",
       "  <tbody>\n",
       "    <tr>\n",
       "      <th>0</th>\n",
       "      <td>sub014</td>\n",
       "      <td>Thursday</td>\n",
       "    </tr>\n",
       "    <tr>\n",
       "      <th>1</th>\n",
       "      <td>sub015</td>\n",
       "      <td>Monday</td>\n",
       "    </tr>\n",
       "    <tr>\n",
       "      <th>2</th>\n",
       "      <td>sub016</td>\n",
       "      <td>Tuesday</td>\n",
       "    </tr>\n",
       "    <tr>\n",
       "      <th>3</th>\n",
       "      <td>sub017</td>\n",
       "      <td>Thursday</td>\n",
       "    </tr>\n",
       "    <tr>\n",
       "      <th>4</th>\n",
       "      <td>sub018</td>\n",
       "      <td>Monday</td>\n",
       "    </tr>\n",
       "  </tbody>\n",
       "</table>\n",
       "</div>"
      ],
      "text/plain": [
       "  subcode dayofweek\n",
       "0  sub014  Thursday\n",
       "1  sub015    Monday\n",
       "2  sub016   Tuesday\n",
       "3  sub017  Thursday\n",
       "4  sub018    Monday"
      ]
     },
     "execution_count": 75,
     "metadata": {},
     "output_type": "execute_result"
    }
   ],
   "source": [
    "metadata[[\"subcode\", \"dayofweek\"]].head()"
   ]
  },
  {
   "cell_type": "code",
   "execution_count": 84,
   "metadata": {},
   "outputs": [
    {
     "name": "stdout",
     "output_type": "stream",
     "text": [
      "Number of Tuesday scans = 40\n",
      "Number of Thursday scans = 32\n"
     ]
    }
   ],
   "source": [
    "print(f\"Number of Tuesday scans = {metadata[metadata['dayofweek'] == 'Tuesday'].shape[0]}\")\n",
    "print(f\"Number of Thursday scans = {metadata[metadata['dayofweek'] == 'Thursday'].shape[0]}\")"
   ]
  },
  {
   "cell_type": "code",
   "execution_count": null,
   "metadata": {},
   "outputs": [],
   "source": []
  }
 ],
 "metadata": {
  "kernelspec": {
   "display_name": ".venv",
   "language": "python",
   "name": "python3"
  },
  "language_info": {
   "codemirror_mode": {
    "name": "ipython",
    "version": 3
   },
   "file_extension": ".py",
   "mimetype": "text/x-python",
   "name": "python",
   "nbconvert_exporter": "python",
   "pygments_lexer": "ipython3",
   "version": "3.12.3"
  }
 },
 "nbformat": 4,
 "nbformat_minor": 2
}
