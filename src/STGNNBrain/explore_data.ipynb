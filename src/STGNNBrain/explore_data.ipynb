{
 "cells": [
  {
   "cell_type": "markdown",
   "metadata": {},
   "source": [
    "# Exploring the data\n",
    "In this notebook, we show you how to navigate the data. "
   ]
  },
  {
   "cell_type": "code",
   "execution_count": 1,
   "metadata": {},
   "outputs": [],
   "source": [
    "import numpy as np\n",
    "import pandas as pd\n",
    "import os\n",
    "import datetime\n",
    "from STGNNBrain.config import Config"
   ]
  },
  {
   "cell_type": "code",
   "execution_count": 2,
   "metadata": {},
   "outputs": [],
   "source": [
    "# Get the data path\n",
    "config = Config()\n",
    "user_ID = config.current_user_ID\n",
    "data_pth = config.data_pth[user_ID]"
   ]
  },
  {
   "cell_type": "code",
   "execution_count": 7,
   "metadata": {},
   "outputs": [],
   "source": [
    "# time series data for one resting state scan\n",
    "scan_ID = \"sub014.txt\"\n",
    "scan_data = pd.read_csv(os.path.join(data_pth, \"connectivity_aa116\", scan_ID), sep=\",\", header=None).to_numpy()"
   ]
  },
  {
   "cell_type": "code",
   "execution_count": 9,
   "metadata": {},
   "outputs": [
    {
     "data": {
      "text/plain": [
       "array([[ 1.        ,  0.8029669 ,  0.7442662 , ...,  0.22868134,\n",
       "         0.35761756, -0.21914223],\n",
       "       [ 0.80296695,  1.        ,  0.7940493 , ...,  0.02752594,\n",
       "         0.41501802, -0.41324878],\n",
       "       [ 0.7442662 ,  0.7940494 ,  1.        , ..., -0.01177641,\n",
       "         0.3736553 , -0.3186635 ],\n",
       "       ...,\n",
       "       [ 0.22868134,  0.02752594, -0.01177641, ...,  1.        ,\n",
       "         0.30737093,  0.07695326],\n",
       "       [ 0.35761756,  0.41501802,  0.3736553 , ...,  0.3073709 ,\n",
       "         1.        , -0.14759922],\n",
       "       [-0.21914221, -0.41324878, -0.3186635 , ...,  0.07695326,\n",
       "        -0.14759922,  1.        ]])"
      ]
     },
     "execution_count": 9,
     "metadata": {},
     "output_type": "execute_result"
    }
   ],
   "source": [
    "scan_data[1:, 1:]"
   ]
  },
  {
   "cell_type": "code",
   "execution_count": 4,
   "metadata": {},
   "outputs": [
    {
     "name": "stdout",
     "output_type": "stream",
     "text": [
      "Number of time points = 518\n",
      "Number of parcels = 630\n"
     ]
    }
   ],
   "source": [
    "print(f\"Number of time points = {scan_data.shape[0]}\")\n",
    "print(f\"Number of parcels = {scan_data.shape[1]}\")"
   ]
  },
  {
   "cell_type": "code",
   "execution_count": 5,
   "metadata": {},
   "outputs": [
    {
     "data": {
      "text/html": [
       "<div>\n",
       "<style scoped>\n",
       "    .dataframe tbody tr th:only-of-type {\n",
       "        vertical-align: middle;\n",
       "    }\n",
       "\n",
       "    .dataframe tbody tr th {\n",
       "        vertical-align: top;\n",
       "    }\n",
       "\n",
       "    .dataframe thead th {\n",
       "        text-align: right;\n",
       "    }\n",
       "</style>\n",
       "<table border=\"1\" class=\"dataframe\">\n",
       "  <thead>\n",
       "    <tr style=\"text-align: right;\">\n",
       "      <th></th>\n",
       "      <th>ID</th>\n",
       "      <th>Hemisphere</th>\n",
       "      <th>X_Coordinate</th>\n",
       "      <th>Y_Coordinate</th>\n",
       "      <th>Z_Coordinate</th>\n",
       "      <th>Lobe</th>\n",
       "      <th>Region</th>\n",
       "      <th>Network</th>\n",
       "      <th>7Network_Label</th>\n",
       "      <th>17Network_Label</th>\n",
       "    </tr>\n",
       "  </thead>\n",
       "  <tbody>\n",
       "    <tr>\n",
       "      <th>0</th>\n",
       "      <td>1</td>\n",
       "      <td>L</td>\n",
       "      <td>-8.05</td>\n",
       "      <td>-45.62</td>\n",
       "      <td>38.36</td>\n",
       "      <td>Parietal</td>\n",
       "      <td>isthmuscingulate</td>\n",
       "      <td>DMN</td>\n",
       "      <td>7Networks_7</td>\n",
       "      <td>17Networks_16</td>\n",
       "    </tr>\n",
       "    <tr>\n",
       "      <th>1</th>\n",
       "      <td>2</td>\n",
       "      <td>L</td>\n",
       "      <td>-17.27</td>\n",
       "      <td>-33.34</td>\n",
       "      <td>70.16</td>\n",
       "      <td>Frontal</td>\n",
       "      <td>superiorparietal</td>\n",
       "      <td>Somatomotor</td>\n",
       "      <td>7Networks_2</td>\n",
       "      <td>17Networks_3</td>\n",
       "    </tr>\n",
       "    <tr>\n",
       "      <th>2</th>\n",
       "      <td>3</td>\n",
       "      <td>L</td>\n",
       "      <td>-53.26</td>\n",
       "      <td>-4.77</td>\n",
       "      <td>37.48</td>\n",
       "      <td>Frontal</td>\n",
       "      <td>precentral</td>\n",
       "      <td>Somatomotor</td>\n",
       "      <td>7Networks_2</td>\n",
       "      <td>17Networks_4</td>\n",
       "    </tr>\n",
       "    <tr>\n",
       "      <th>3</th>\n",
       "      <td>4</td>\n",
       "      <td>L</td>\n",
       "      <td>-6.78</td>\n",
       "      <td>10.31</td>\n",
       "      <td>54.54</td>\n",
       "      <td>Frontal</td>\n",
       "      <td>superiorfrontal</td>\n",
       "      <td>Ventral_Attention</td>\n",
       "      <td>7Networks_4</td>\n",
       "      <td>17Networks_7</td>\n",
       "    </tr>\n",
       "    <tr>\n",
       "      <th>4</th>\n",
       "      <td>5</td>\n",
       "      <td>L</td>\n",
       "      <td>-14.99</td>\n",
       "      <td>-95.83</td>\n",
       "      <td>17.00</td>\n",
       "      <td>Occipital</td>\n",
       "      <td>superiorparietal</td>\n",
       "      <td>Visual_2</td>\n",
       "      <td>7Networks_1</td>\n",
       "      <td>17Networks_1</td>\n",
       "    </tr>\n",
       "  </tbody>\n",
       "</table>\n",
       "</div>"
      ],
      "text/plain": [
       "   ID Hemisphere  X_Coordinate  Y_Coordinate  Z_Coordinate       Lobe  \\\n",
       "0   1          L         -8.05        -45.62         38.36   Parietal   \n",
       "1   2          L        -17.27        -33.34         70.16    Frontal   \n",
       "2   3          L        -53.26         -4.77         37.48    Frontal   \n",
       "3   4          L         -6.78         10.31         54.54    Frontal   \n",
       "4   5          L        -14.99        -95.83         17.00  Occipital   \n",
       "\n",
       "             Region            Network 7Network_Label 17Network_Label  \n",
       "0  isthmuscingulate                DMN    7Networks_7   17Networks_16  \n",
       "1  superiorparietal        Somatomotor    7Networks_2    17Networks_3  \n",
       "2        precentral        Somatomotor    7Networks_2    17Networks_4  \n",
       "3   superiorfrontal  Ventral_Attention    7Networks_4    17Networks_7  \n",
       "4  superiorparietal           Visual_2    7Networks_1    17Networks_1  "
      ]
     },
     "execution_count": 5,
     "metadata": {},
     "output_type": "execute_result"
    }
   ],
   "source": [
    "# parcel metadata\n",
    "parcel_metadata = pd.read_csv(os.path.join(data_pth, \"parcel_data.txt\"), sep = \"\\t\", header=None)\n",
    "parcel_metadata.columns = [\"ID\", \"Hemisphere\", \"X_Coordinate\", \"Y_Coordinate\", \"Z_Coordinate\", \n",
    "                            \"Lobe\", \"Region\", \"Network\", \"7Network_Label\", \"17Network_Label\"]\n",
    "parcel_metadata.head()"
   ]
  },
  {
   "cell_type": "code",
   "execution_count": 6,
   "metadata": {},
   "outputs": [],
   "source": [
    "# labeling the data fasted vs non-fasted\n",
    "metadata = pd.read_csv(os.path.join(data_pth, 'trackingdata_goodscans.txt'), sep = \"\\t\")\n",
    "dayofweek = []\n",
    "for i in range(metadata.shape[0]):\n",
    "    dt = metadata[\"date\"][i]\n",
    "    year, month, day = (int(x) for x in dt.split('-'))    \n",
    "    ans = datetime.date(year, month, day)\n",
    "    dayofweek.append(ans.strftime('%A'))\n",
    "metadata[\"dayofweek\"] = dayofweek"
   ]
  },
  {
   "cell_type": "markdown",
   "metadata": {},
   "source": [
    "* Mondays: Afternoon scan (non-fasted)\n",
    "* Tuesdays: Morning scan (fasted)\n",
    "* Thursdays: Morning scan (unfasted and caffeinated)"
   ]
  },
  {
   "cell_type": "code",
   "execution_count": 7,
   "metadata": {},
   "outputs": [
    {
     "data": {
      "text/html": [
       "<div>\n",
       "<style scoped>\n",
       "    .dataframe tbody tr th:only-of-type {\n",
       "        vertical-align: middle;\n",
       "    }\n",
       "\n",
       "    .dataframe tbody tr th {\n",
       "        vertical-align: top;\n",
       "    }\n",
       "\n",
       "    .dataframe thead th {\n",
       "        text-align: right;\n",
       "    }\n",
       "</style>\n",
       "<table border=\"1\" class=\"dataframe\">\n",
       "  <thead>\n",
       "    <tr style=\"text-align: right;\">\n",
       "      <th></th>\n",
       "      <th>subcode</th>\n",
       "      <th>dayofweek</th>\n",
       "    </tr>\n",
       "  </thead>\n",
       "  <tbody>\n",
       "    <tr>\n",
       "      <th>0</th>\n",
       "      <td>sub014</td>\n",
       "      <td>Thursday</td>\n",
       "    </tr>\n",
       "    <tr>\n",
       "      <th>1</th>\n",
       "      <td>sub015</td>\n",
       "      <td>Monday</td>\n",
       "    </tr>\n",
       "    <tr>\n",
       "      <th>2</th>\n",
       "      <td>sub016</td>\n",
       "      <td>Tuesday</td>\n",
       "    </tr>\n",
       "    <tr>\n",
       "      <th>3</th>\n",
       "      <td>sub017</td>\n",
       "      <td>Thursday</td>\n",
       "    </tr>\n",
       "    <tr>\n",
       "      <th>4</th>\n",
       "      <td>sub018</td>\n",
       "      <td>Monday</td>\n",
       "    </tr>\n",
       "  </tbody>\n",
       "</table>\n",
       "</div>"
      ],
      "text/plain": [
       "  subcode dayofweek\n",
       "0  sub014  Thursday\n",
       "1  sub015    Monday\n",
       "2  sub016   Tuesday\n",
       "3  sub017  Thursday\n",
       "4  sub018    Monday"
      ]
     },
     "execution_count": 7,
     "metadata": {},
     "output_type": "execute_result"
    }
   ],
   "source": [
    "metadata[[\"subcode\", \"dayofweek\"]].head()"
   ]
  },
  {
   "cell_type": "code",
   "execution_count": 84,
   "metadata": {},
   "outputs": [
    {
     "name": "stdout",
     "output_type": "stream",
     "text": [
      "Number of Tuesday scans = 40\n",
      "Number of Thursday scans = 32\n"
     ]
    }
   ],
   "source": [
    "print(f\"Number of Tuesday scans = {metadata[metadata['dayofweek'] == 'Tuesday'].shape[0]}\")\n",
    "print(f\"Number of Thursday scans = {metadata[metadata['dayofweek'] == 'Thursday'].shape[0]}\")"
   ]
  },
  {
   "cell_type": "code",
   "execution_count": 8,
   "metadata": {},
   "outputs": [],
   "source": [
    "labels = metadata.query(\"dayofweek == 'Tuesday' or dayofweek == 'Thursday'\")"
   ]
  },
  {
   "cell_type": "code",
   "execution_count": 9,
   "metadata": {},
   "outputs": [
    {
     "name": "stderr",
     "output_type": "stream",
     "text": [
      "/var/folders/xd/6fbjp5ms7ss8c4xxlmz91xkm0000gn/T/ipykernel_61377/3492866218.py:2: SettingWithCopyWarning: \n",
      "A value is trying to be set on a copy of a slice from a DataFrame.\n",
      "Try using .loc[row_indexer,col_indexer] = value instead\n",
      "\n",
      "See the caveats in the documentation: https://pandas.pydata.org/pandas-docs/stable/user_guide/indexing.html#returning-a-view-versus-a-copy\n",
      "  labels[\"caffeinated\"] = 1\n"
     ]
    }
   ],
   "source": [
    "# if dayofweek Tuesday, caffeinated = 0, else caffeinated = 0\n",
    "labels[\"caffeinated\"] = 1\n",
    "labels.loc[labels[\"dayofweek\"] == \"Tuesday\", \"caffeinated\"] = 0\n"
   ]
  },
  {
   "cell_type": "code",
   "execution_count": 11,
   "metadata": {},
   "outputs": [],
   "source": [
    "labels = labels[[\"subcode\", \"dayofweek\", \"caffeinated\"]]"
   ]
  },
  {
   "cell_type": "code",
   "execution_count": 12,
   "metadata": {},
   "outputs": [],
   "source": [
    "labels.to_csv(os.path.join(data_pth, \"labels.csv\"), index=False)"
   ]
  },
  {
   "cell_type": "code",
   "execution_count": 22,
   "metadata": {},
   "outputs": [],
   "source": [
    "for file in os.listdir(os.path.join(data_pth, \"timeseries_aa116\")):\n",
    "    s = file.split(\"-\")\n",
    "    new_name = f\"sub{s[-1]}\"\n",
    "    os.rename(os.path.join(data_pth, \"timeseries_aa116\", file), os.path.join(data_pth, \"timeseries_aa116\", new_name))"
   ]
  },
  {
   "cell_type": "code",
   "execution_count": null,
   "metadata": {},
   "outputs": [],
   "source": []
  }
 ],
 "metadata": {
  "kernelspec": {
   "display_name": ".venv",
   "language": "python",
   "name": "python3"
  },
  "language_info": {
   "codemirror_mode": {
    "name": "ipython",
    "version": 3
   },
   "file_extension": ".py",
   "mimetype": "text/x-python",
   "name": "python",
   "nbconvert_exporter": "python",
   "pygments_lexer": "ipython3",
   "version": "3.12.3"
  }
 },
 "nbformat": 4,
 "nbformat_minor": 2
}
