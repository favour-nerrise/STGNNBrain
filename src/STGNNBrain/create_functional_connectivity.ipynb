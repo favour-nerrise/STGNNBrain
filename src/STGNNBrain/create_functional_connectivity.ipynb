{
 "cells": [
  {
   "cell_type": "markdown",
   "metadata": {},
   "source": [
    "# Create functional connectivity\n",
    "Run function to create and save functional connectivity"
   ]
  },
  {
   "cell_type": "code",
   "execution_count": 8,
   "metadata": {},
   "outputs": [],
   "source": [
    "import os\n",
    "import pandas as pd\n",
    "from STGNNBrain.functional_connectivity import functional_connectivity\n",
    "from STGNNBrain.config import Config"
   ]
  },
  {
   "cell_type": "code",
   "execution_count": 6,
   "metadata": {},
   "outputs": [],
   "source": [
    "config = Config()\n",
    "user_ID = config.current_user_ID\n",
    "data_pth = config.data_pth[user_ID]"
   ]
  },
  {
   "cell_type": "code",
   "execution_count": 9,
   "metadata": {},
   "outputs": [
    {
     "name": "stdout",
     "output_type": "stream",
     "text": [
      "sub039\n",
      "sub038\n",
      "sub028\n",
      "sub014\n",
      "sub015\n",
      "sub029\n",
      "sub017\n",
      "sub016\n",
      "sub065\n",
      "sub071\n",
      "sub059\n",
      "sub058\n",
      "sub070\n",
      "sub064\n",
      "sub104\n",
      "sub099\n",
      "sub072\n",
      "sub066\n",
      "sub067\n",
      "sub073\n",
      "sub098\n",
      "sub103\n",
      "sub088\n",
      "sub077\n",
      "sub063\n",
      "sub062\n",
      "sub076\n",
      "sub089\n",
      "sub102\n",
      "sub100\n",
      "sub048\n",
      "sub060\n",
      "sub074\n",
      "sub075\n",
      "sub061\n",
      "sub049\n",
      "sub101\n",
      "sub087\n",
      "sub044\n",
      "sub050\n",
      "sub078\n",
      "sub079\n",
      "sub051\n",
      "sub045\n",
      "sub092\n",
      "sub086\n",
      "sub084\n",
      "sub053\n",
      "sub047\n",
      "sub046\n",
      "sub085\n",
      "sub091\n",
      "sub095\n",
      "sub081\n",
      "sub056\n",
      "sub042\n",
      "sub043\n",
      "sub057\n",
      "sub080\n",
      "sub094\n",
      "sub082\n",
      "sub096\n",
      "sub069\n",
      "sub041\n",
      "sub054\n",
      "sub040\n",
      "sub068\n",
      "sub097\n",
      "sub083\n",
      "sub027\n",
      "sub032\n",
      "sub026\n",
      "sub030\n",
      "sub024\n",
      "sub018\n",
      "sub019\n",
      "sub025\n",
      "sub035\n",
      "sub021\n",
      "sub020\n",
      "sub022\n",
      "sub036\n",
      "sub037\n",
      "sub023\n"
     ]
    }
   ],
   "source": [
    "# loop through all rsdata and save in connectivity pth\n",
    "for scan_ID in os.listdir(os.path.join(data_pth, 'timeseries')):\n",
    "    print(scan_ID[:-4])\n",
    "    data = pd.read_csv(os.path.join(data_pth, \"timeseries\", scan_ID), sep=\" \", header=None).to_numpy()\n",
    "    save_pth = os.path.join(data_pth, 'connectivity', scan_ID)\n",
    "    functional_connectivity(data, save_pth)"
   ]
  },
  {
   "cell_type": "code",
   "execution_count": null,
   "metadata": {},
   "outputs": [],
   "source": []
  }
 ],
 "metadata": {
  "kernelspec": {
   "display_name": ".venv",
   "language": "python",
   "name": "python3"
  },
  "language_info": {
   "codemirror_mode": {
    "name": "ipython",
    "version": 3
   },
   "file_extension": ".py",
   "mimetype": "text/x-python",
   "name": "python",
   "nbconvert_exporter": "python",
   "pygments_lexer": "ipython3",
   "version": "3.12.3"
  }
 },
 "nbformat": 4,
 "nbformat_minor": 2
}
